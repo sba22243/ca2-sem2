{
 "cells": [
  {
   "cell_type": "markdown",
   "id": "10effb37-78e4-4382-83fc-6daa1599ba05",
   "metadata": {},
   "source": [
    "# MSc in Data Analytics\n",
    "# Sentiment Analysis Assignment - STEP 2\n",
    "\n",
    "Assessment Task\n",
    "Students are advised to review and adhere to the submission requirements documented after the assessment task.  \n",
    "In this continuous assessment, You are required to identify and carry out an analysis of a large dataset gleaned from the twitter API. Instructions for accessing the data can be found here  \n",
    "https://datascienceparichay.com/article/get-data-from-twitter-api-in-python-step-by-step-guide/  \n",
    "https://www.toptal.com/apache/apache-spark-streaming-twitter  \n",
    "OR You may use the data held here:  \n",
    "https://archive.org/details/twitterstream?sort=-publicdate  \n",
    "You must collect at least 1 year's tweets on a topic, this data should be stored as requested below, and you are then required to analyse any change sentiment that occurs over the time period that you have selected.  \n",
    "Following your analysis, you are then required to make a time series forecast of the sentiment at 1 week, 1 month and 3 months going forward. This forecast must be displayed as a dynamic dashboard.   \n",
    "\n",
    "### Assignment\n",
    "Topic: vaccine\n",
    "\n",
    "this notebook will read the dataset containing only the tweeets related to vaccine.  \n",
    "The dataset represent tweets from June 2020 until May 2021. **The dataset was downloaded from the link https://archive.org/details/twitterstream?sort=-publicdate**  \n"
   ]
  },
  {
   "cell_type": "markdown",
   "id": "0a1b6888",
   "metadata": {},
   "source": [
    "## Perform Sentiment Analysis"
   ]
  },
  {
   "cell_type": "code",
   "execution_count": 1,
   "id": "e37f51d2-b0f8-4081-82bb-f9b941ea2287",
   "metadata": {},
   "outputs": [],
   "source": [
    "import findspark\n",
    "findspark.init()"
   ]
  },
  {
   "cell_type": "code",
   "execution_count": 20,
   "id": "310fe401-7ba7-45ec-90cb-118ed285e3b9",
   "metadata": {},
   "outputs": [],
   "source": [
    "from pyspark import SparkContext, SparkConf\n",
    "from pyspark.sql import SparkSession\n",
    "from pyspark.sql import SQLContext\n",
    "from pyspark.sql.functions import col\n",
    "import pyspark.sql.functions as F\n",
    "\n",
    "import nltk\n",
    "from nltk.sentiment import SentimentIntensityAnalyzer\n",
    "from nltk.corpus import stopwords\n",
    "from nltk.tokenize import word_tokenize\n",
    "from nltk.stem import WordNetLemmatizer\n",
    "\n",
    "import matplotlib.pyplot as plt\n",
    "import numpy as np\n",
    "\n",
    "import json, os"
   ]
  },
  {
   "cell_type": "code",
   "execution_count": 3,
   "id": "c32a0dbf-a063-4bb7-89da-05542111bea1",
   "metadata": {},
   "outputs": [],
   "source": [
    "# Create the Spark Context\n",
    "\n",
    "spark = SparkSession \\\n",
    "    .builder \\\n",
    "    .appName(\"sba22243-sentiment\") \\\n",
    "    .config(\"spark.sql.debug.maxToStringFields\", 100) \\\n",
    "    .config(\"spark.mongodb.input.uri\", \"mongodb://192.168.0.107/sba22243.vaccine\") \\\n",
    "    .config(\"spark.mongodb.output.uri\", \"mongodb://192.168.0.107/sba22243.vaccine\") \\\n",
    "    .config('spark.jars.packages', 'org.mongodb.spark:mongo-spark-connector_2.12:3.0.2') \\\n",
    "    .getOrCreate()\n",
    "sqlContext = spark._wrapped"
   ]
  },
  {
   "cell_type": "markdown",
   "id": "f655af97",
   "metadata": {},
   "source": [
    "### Import filtered tweets from filesystem into MongoDB"
   ]
  },
  {
   "cell_type": "code",
   "execution_count": 4,
   "id": "c001b02f-4721-4fcf-93de-d8f673542a62",
   "metadata": {
    "scrolled": true
   },
   "outputs": [],
   "source": [
    "# Read tweets from MongoDB\n",
    "df = sqlContext.read.format(\"mongo\").option(\"uri\", \"mongodb://192.168.0.107/sba22243.vaccine\").load()"
   ]
  },
  {
   "cell_type": "code",
   "execution_count": 14,
   "id": "9b28efd1",
   "metadata": {},
   "outputs": [
    {
     "name": "stdout",
     "output_type": "stream",
     "text": [
      "+--------------------+--------------------+---+----------+-----+--------------------+-------------+----+\n",
      "|                 _id|          created_at|day| full_date|month|                text| timestamp_ms|year|\n",
      "+--------------------+--------------------+---+----------+-----+--------------------+-------------+----+\n",
      "|{646a9a4ee12bed28...|Tue Jun 09 13:01:...|  9|2020-06-09|    6|THE INJECTION FRA...|1591707677660|2020|\n",
      "|{646a9a4ee12bed28...|Tue Jun 09 13:03:...|  9|2020-06-09|    6|Tests for Coronav...|1591707810659|2020|\n",
      "|{646a9a4ee12bed28...|Tue Jun 09 13:36:...|  9|2020-06-09|    6|@EricTrump Not if...|1591709812659|2020|\n",
      "|{646a9a4ee12bed28...|Tue Jun 09 13:38:...|  9|2020-06-09|    6|@gorygaming24601 ...|1591709885662|2020|\n",
      "|{646a9a4ee12bed28...|Tue Jun 09 13:39:...|  9|2020-06-09|    6|Philippines Stude...|1591709982665|2020|\n",
      "+--------------------+--------------------+---+----------+-----+--------------------+-------------+----+\n",
      "only showing top 5 rows\n",
      "\n"
     ]
    }
   ],
   "source": [
    "df.show(5)"
   ]
  },
  {
   "cell_type": "code",
   "execution_count": 12,
   "id": "d802fffe-7b51-4967-a7e2-4b6913a65b6c",
   "metadata": {},
   "outputs": [],
   "source": [
    "# Convert spark dataframe into Pandas dataframe\n",
    "pdf = df.toPandas()"
   ]
  },
  {
   "cell_type": "code",
   "execution_count": 13,
   "id": "6109fa8d-540a-4362-8e4b-bd05e542d20f",
   "metadata": {},
   "outputs": [
    {
     "data": {
      "text/html": [
       "<div>\n",
       "<style scoped>\n",
       "    .dataframe tbody tr th:only-of-type {\n",
       "        vertical-align: middle;\n",
       "    }\n",
       "\n",
       "    .dataframe tbody tr th {\n",
       "        vertical-align: top;\n",
       "    }\n",
       "\n",
       "    .dataframe thead th {\n",
       "        text-align: right;\n",
       "    }\n",
       "</style>\n",
       "<table border=\"1\" class=\"dataframe\">\n",
       "  <thead>\n",
       "    <tr style=\"text-align: right;\">\n",
       "      <th></th>\n",
       "      <th>_id</th>\n",
       "      <th>created_at</th>\n",
       "      <th>day</th>\n",
       "      <th>full_date</th>\n",
       "      <th>month</th>\n",
       "      <th>text</th>\n",
       "      <th>timestamp_ms</th>\n",
       "      <th>year</th>\n",
       "    </tr>\n",
       "  </thead>\n",
       "  <tbody>\n",
       "    <tr>\n",
       "      <th>0</th>\n",
       "      <td>(646a9a4ee12bed28b0c85ca8,)</td>\n",
       "      <td>Tue Jun 09 13:01:17 +0000 2020</td>\n",
       "      <td>9</td>\n",
       "      <td>2020-06-09</td>\n",
       "      <td>6</td>\n",
       "      <td>THE INJECTION FRAUD - IT'S NOT A VACCINE\\nBy C...</td>\n",
       "      <td>1591707677660</td>\n",
       "      <td>2020</td>\n",
       "    </tr>\n",
       "    <tr>\n",
       "      <th>1</th>\n",
       "      <td>(646a9a4ee12bed28b0c85cab,)</td>\n",
       "      <td>Tue Jun 09 13:03:30 +0000 2020</td>\n",
       "      <td>9</td>\n",
       "      <td>2020-06-09</td>\n",
       "      <td>6</td>\n",
       "      <td>Tests for Coronavirus Vaccine Need This Ingred...</td>\n",
       "      <td>1591707810659</td>\n",
       "      <td>2020</td>\n",
       "    </tr>\n",
       "    <tr>\n",
       "      <th>2</th>\n",
       "      <td>(646a9a4ee12bed28b0c85caf,)</td>\n",
       "      <td>Tue Jun 09 13:36:52 +0000 2020</td>\n",
       "      <td>9</td>\n",
       "      <td>2020-06-09</td>\n",
       "      <td>6</td>\n",
       "      <td>@EricTrump Not if your father doesn't wake up ...</td>\n",
       "      <td>1591709812659</td>\n",
       "      <td>2020</td>\n",
       "    </tr>\n",
       "    <tr>\n",
       "      <th>3</th>\n",
       "      <td>(646a9a4ee12bed28b0c85cb1,)</td>\n",
       "      <td>Tue Jun 09 13:38:05 +0000 2020</td>\n",
       "      <td>9</td>\n",
       "      <td>2020-06-09</td>\n",
       "      <td>6</td>\n",
       "      <td>@gorygaming24601 So do I... oh wait right I fo...</td>\n",
       "      <td>1591709885662</td>\n",
       "      <td>2020</td>\n",
       "    </tr>\n",
       "    <tr>\n",
       "      <th>4</th>\n",
       "      <td>(646a9a4ee12bed28b0c85cb3,)</td>\n",
       "      <td>Tue Jun 09 13:39:42 +0000 2020</td>\n",
       "      <td>9</td>\n",
       "      <td>2020-06-09</td>\n",
       "      <td>6</td>\n",
       "      <td>Philippines Students Face Distance Learning Un...</td>\n",
       "      <td>1591709982665</td>\n",
       "      <td>2020</td>\n",
       "    </tr>\n",
       "  </tbody>\n",
       "</table>\n",
       "</div>"
      ],
      "text/plain": [
       "                           _id                      created_at day   \n",
       "0  (646a9a4ee12bed28b0c85ca8,)  Tue Jun 09 13:01:17 +0000 2020   9  \\\n",
       "1  (646a9a4ee12bed28b0c85cab,)  Tue Jun 09 13:03:30 +0000 2020   9   \n",
       "2  (646a9a4ee12bed28b0c85caf,)  Tue Jun 09 13:36:52 +0000 2020   9   \n",
       "3  (646a9a4ee12bed28b0c85cb1,)  Tue Jun 09 13:38:05 +0000 2020   9   \n",
       "4  (646a9a4ee12bed28b0c85cb3,)  Tue Jun 09 13:39:42 +0000 2020   9   \n",
       "\n",
       "    full_date month                                               text   \n",
       "0  2020-06-09     6  THE INJECTION FRAUD - IT'S NOT A VACCINE\\nBy C...  \\\n",
       "1  2020-06-09     6  Tests for Coronavirus Vaccine Need This Ingred...   \n",
       "2  2020-06-09     6  @EricTrump Not if your father doesn't wake up ...   \n",
       "3  2020-06-09     6  @gorygaming24601 So do I... oh wait right I fo...   \n",
       "4  2020-06-09     6  Philippines Students Face Distance Learning Un...   \n",
       "\n",
       "    timestamp_ms  year  \n",
       "0  1591707677660  2020  \n",
       "1  1591707810659  2020  \n",
       "2  1591709812659  2020  \n",
       "3  1591709885662  2020  \n",
       "4  1591709982665  2020  "
      ]
     },
     "execution_count": 13,
     "metadata": {},
     "output_type": "execute_result"
    }
   ],
   "source": [
    "pdf.head()"
   ]
  },
  {
   "cell_type": "markdown",
   "id": "3d5040e9-3b66-4cc1-8ba4-19364e318469",
   "metadata": {},
   "source": [
    "## Sentiment Analysis"
   ]
  },
  {
   "cell_type": "code",
   "execution_count": 23,
   "id": "8d73ecea-8ff9-4218-84bb-b169f74c255e",
   "metadata": {},
   "outputs": [
    {
     "name": "stderr",
     "output_type": "stream",
     "text": [
      "[nltk_data] Downloading package vader_lexicon to\n",
      "[nltk_data]     C:\\Users\\Mara\\AppData\\Roaming\\nltk_data...\n",
      "[nltk_data]   Package vader_lexicon is already up-to-date!\n",
      "[nltk_data] Downloading package stopwords to\n",
      "[nltk_data]     C:\\Users\\Mara\\AppData\\Roaming\\nltk_data...\n",
      "[nltk_data]   Package stopwords is already up-to-date!\n"
     ]
    },
    {
     "data": {
      "text/plain": [
       "True"
      ]
     },
     "execution_count": 23,
     "metadata": {},
     "output_type": "execute_result"
    }
   ],
   "source": [
    "# Load the Vader Lexicon\n",
    "nltk.download([\"vader_lexicon\",\n",
    "             \"stopwords\"])"
   ]
  },
  {
   "cell_type": "code",
   "execution_count": 24,
   "id": "62731301-36f7-4703-862b-addf20670861",
   "metadata": {},
   "outputs": [],
   "source": [
    "analyzer = SentimentIntensityAnalyzer()"
   ]
  },
  {
   "cell_type": "markdown",
   "id": "3710b03e-cb2a-493f-8dac-d26c6a1fd60b",
   "metadata": {},
   "source": [
    "### Text Preprocessor"
   ]
  },
  {
   "cell_type": "code",
   "execution_count": 25,
   "id": "941f4af2-6532-44c4-b2c7-6f8995476080",
   "metadata": {},
   "outputs": [],
   "source": [
    "# Make text preprocessor\n",
    "def tweet_preprocessor(tweet_text):\n",
    "    token_list = word_tokenize(tweet_text.lower())\n",
    "    token_without_stop_words = [token for token in token_list if token not in stopwords.words('english')]\n",
    "    \n",
    "    lemmatizer = WordNetLemmatizer()\n",
    "    tokens_lemmatized = [lemmatizer.lemmatize(token) for token in token_without_stop_words]\n",
    "\n",
    "    final_tweet = \" \".join(tokens_lemmatized)"
   ]
  },
  {
   "cell_type": "code",
   "execution_count": null,
   "id": "eb52a6f0-94ad-4786-a6e9-cf503624977a",
   "metadata": {},
   "outputs": [],
   "source": [
    "pdf['text_filtered'] = pdf['text'].apply(tweet_preprocessor)"
   ]
  },
  {
   "cell_type": "markdown",
   "id": "60f1e2b1-600c-4b5b-88b7-c746120ccff8",
   "metadata": {},
   "source": [
    "### Polarity Extraction"
   ]
  },
  {
   "cell_type": "code",
   "execution_count": 15,
   "id": "65f32d38-fa0b-47a5-a327-c0c912383cce",
   "metadata": {},
   "outputs": [],
   "source": [
    "pdf['sentiment_compound'] = pdf['text_filtered'].apply(lambda x: analyzer.polarity_scores(x)['compound'])"
   ]
  },
  {
   "cell_type": "code",
   "execution_count": 16,
   "id": "f290921a-bb75-4fc0-a828-e7d2e7a32d23",
   "metadata": {},
   "outputs": [
    {
     "data": {
      "text/html": [
       "<div>\n",
       "<style scoped>\n",
       "    .dataframe tbody tr th:only-of-type {\n",
       "        vertical-align: middle;\n",
       "    }\n",
       "\n",
       "    .dataframe tbody tr th {\n",
       "        vertical-align: top;\n",
       "    }\n",
       "\n",
       "    .dataframe thead th {\n",
       "        text-align: right;\n",
       "    }\n",
       "</style>\n",
       "<table border=\"1\" class=\"dataframe\">\n",
       "  <thead>\n",
       "    <tr style=\"text-align: right;\">\n",
       "      <th></th>\n",
       "      <th>_id</th>\n",
       "      <th>created_at</th>\n",
       "      <th>day</th>\n",
       "      <th>full_date</th>\n",
       "      <th>month</th>\n",
       "      <th>text</th>\n",
       "      <th>timestamp_ms</th>\n",
       "      <th>year</th>\n",
       "      <th>sentiment_compound</th>\n",
       "    </tr>\n",
       "  </thead>\n",
       "  <tbody>\n",
       "    <tr>\n",
       "      <th>0</th>\n",
       "      <td>(646a9a4ee12bed28b0c85ca8,)</td>\n",
       "      <td>Tue Jun 09 13:01:17 +0000 2020</td>\n",
       "      <td>9</td>\n",
       "      <td>2020-06-09</td>\n",
       "      <td>6</td>\n",
       "      <td>THE INJECTION FRAUD - IT'S NOT A VACCINE\\nBy C...</td>\n",
       "      <td>1591707677660</td>\n",
       "      <td>2020</td>\n",
       "      <td>-0.6739</td>\n",
       "    </tr>\n",
       "    <tr>\n",
       "      <th>1</th>\n",
       "      <td>(646a9a4ee12bed28b0c85cab,)</td>\n",
       "      <td>Tue Jun 09 13:03:30 +0000 2020</td>\n",
       "      <td>9</td>\n",
       "      <td>2020-06-09</td>\n",
       "      <td>6</td>\n",
       "      <td>Tests for Coronavirus Vaccine Need This Ingred...</td>\n",
       "      <td>1591707810659</td>\n",
       "      <td>2020</td>\n",
       "      <td>0.0000</td>\n",
       "    </tr>\n",
       "    <tr>\n",
       "      <th>2</th>\n",
       "      <td>(646a9a4ee12bed28b0c85caf,)</td>\n",
       "      <td>Tue Jun 09 13:36:52 +0000 2020</td>\n",
       "      <td>9</td>\n",
       "      <td>2020-06-09</td>\n",
       "      <td>6</td>\n",
       "      <td>@EricTrump Not if your father doesn't wake up ...</td>\n",
       "      <td>1591709812659</td>\n",
       "      <td>2020</td>\n",
       "      <td>-0.5423</td>\n",
       "    </tr>\n",
       "    <tr>\n",
       "      <th>3</th>\n",
       "      <td>(646a9a4ee12bed28b0c85cb1,)</td>\n",
       "      <td>Tue Jun 09 13:38:05 +0000 2020</td>\n",
       "      <td>9</td>\n",
       "      <td>2020-06-09</td>\n",
       "      <td>6</td>\n",
       "      <td>@gorygaming24601 So do I... oh wait right I fo...</td>\n",
       "      <td>1591709885662</td>\n",
       "      <td>2020</td>\n",
       "      <td>0.0000</td>\n",
       "    </tr>\n",
       "    <tr>\n",
       "      <th>4</th>\n",
       "      <td>(646a9a4ee12bed28b0c85cb3,)</td>\n",
       "      <td>Tue Jun 09 13:39:42 +0000 2020</td>\n",
       "      <td>9</td>\n",
       "      <td>2020-06-09</td>\n",
       "      <td>6</td>\n",
       "      <td>Philippines Students Face Distance Learning Un...</td>\n",
       "      <td>1591709982665</td>\n",
       "      <td>2020</td>\n",
       "      <td>0.0000</td>\n",
       "    </tr>\n",
       "  </tbody>\n",
       "</table>\n",
       "</div>"
      ],
      "text/plain": [
       "                           _id                      created_at day   \n",
       "0  (646a9a4ee12bed28b0c85ca8,)  Tue Jun 09 13:01:17 +0000 2020   9  \\\n",
       "1  (646a9a4ee12bed28b0c85cab,)  Tue Jun 09 13:03:30 +0000 2020   9   \n",
       "2  (646a9a4ee12bed28b0c85caf,)  Tue Jun 09 13:36:52 +0000 2020   9   \n",
       "3  (646a9a4ee12bed28b0c85cb1,)  Tue Jun 09 13:38:05 +0000 2020   9   \n",
       "4  (646a9a4ee12bed28b0c85cb3,)  Tue Jun 09 13:39:42 +0000 2020   9   \n",
       "\n",
       "    full_date month                                               text   \n",
       "0  2020-06-09     6  THE INJECTION FRAUD - IT'S NOT A VACCINE\\nBy C...  \\\n",
       "1  2020-06-09     6  Tests for Coronavirus Vaccine Need This Ingred...   \n",
       "2  2020-06-09     6  @EricTrump Not if your father doesn't wake up ...   \n",
       "3  2020-06-09     6  @gorygaming24601 So do I... oh wait right I fo...   \n",
       "4  2020-06-09     6  Philippines Students Face Distance Learning Un...   \n",
       "\n",
       "    timestamp_ms  year  sentiment_compound  \n",
       "0  1591707677660  2020             -0.6739  \n",
       "1  1591707810659  2020              0.0000  \n",
       "2  1591709812659  2020             -0.5423  \n",
       "3  1591709885662  2020              0.0000  \n",
       "4  1591709982665  2020              0.0000  "
      ]
     },
     "execution_count": 16,
     "metadata": {},
     "output_type": "execute_result"
    }
   ],
   "source": [
    "pdf.head()"
   ]
  },
  {
   "cell_type": "code",
   "execution_count": null,
   "id": "fe1f2434-09b6-44a0-9e39-7a2ccf9c8872",
   "metadata": {},
   "outputs": [],
   "source": []
  }
 ],
 "metadata": {
  "kernelspec": {
   "display_name": "Python 3 (ipykernel)",
   "language": "python",
   "name": "python3"
  },
  "language_info": {
   "codemirror_mode": {
    "name": "ipython",
    "version": 3
   },
   "file_extension": ".py",
   "mimetype": "text/x-python",
   "name": "python",
   "nbconvert_exporter": "python",
   "pygments_lexer": "ipython3",
   "version": "3.10.9"
  }
 },
 "nbformat": 4,
 "nbformat_minor": 5
}

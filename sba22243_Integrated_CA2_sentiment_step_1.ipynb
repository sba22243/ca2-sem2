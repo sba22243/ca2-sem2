{
 "cells": [
  {
   "cell_type": "markdown",
   "id": "10effb37-78e4-4382-83fc-6daa1599ba05",
   "metadata": {},
   "source": [
    "# MSc in Data Analytics\n",
    "# Sentiment Analysis Assignment\n",
    "\n",
    "Assessment Task\n",
    "Students are advised to review and adhere to the submission requirements documented after the assessment task.  \n",
    "In this continuous assessment, You are required to identify and carry out an analysis of a large dataset gleaned from the twitter API. Instructions for accessing the data can be found here  \n",
    "https://datascienceparichay.com/article/get-data-from-twitter-api-in-python-step-by-step-guide/  \n",
    "https://www.toptal.com/apache/apache-spark-streaming-twitter  \n",
    "OR You may use the data held here:  \n",
    "https://archive.org/details/twitterstream?sort=-publicdate  \n",
    "You must collect at least 1 year's tweets on a topic, this data should be stored as requested below, and you are then required to analyse any change sentiment that occurs over the time period that you have selected.  \n",
    "Following your analysis, you are then required to make a time series forecast of the sentiment at 1 week, 1 month and 3 months going forward. This forecast must be displayed as a dynamic dashboard.   \n",
    "\n",
    "### Assignment\n",
    "Topic: vaccine\n",
    "\n",
    "this notebook will read the dataset containing only the tweeets related to vaccine.  \n",
    "The dataset represent tweets from June 2020 until May 2021. **The dataset was downloaded from the link https://archive.org/details/twitterstream?sort=-publicdate**  \n"
   ]
  },
  {
   "cell_type": "markdown",
   "id": "0a1b6888",
   "metadata": {},
   "source": [
    "## Import filtered tweets into MongoDB and EDA step 1"
   ]
  },
  {
   "cell_type": "code",
   "execution_count": 1,
   "id": "e37f51d2-b0f8-4081-82bb-f9b941ea2287",
   "metadata": {},
   "outputs": [],
   "source": [
    "import findspark\n",
    "findspark.init()"
   ]
  },
  {
   "cell_type": "code",
   "execution_count": 2,
   "id": "310fe401-7ba7-45ec-90cb-118ed285e3b9",
   "metadata": {},
   "outputs": [],
   "source": [
    "from pyspark import SparkContext, SparkConf\n",
    "from pyspark.sql import SparkSession\n",
    "from pyspark.sql import SQLContext\n",
    "from pyspark.sql.functions import col\n",
    "import pyspark.sql.functions as F\n",
    "\n",
    "import matplotlib.pyplot as plt\n",
    "from matplotlib.ticker import MaxNLocator\n",
    "import numpy as np\n",
    "\n",
    "import json, os"
   ]
  },
  {
   "cell_type": "code",
   "execution_count": 3,
   "id": "43573d91-3b69-492f-b9e8-c2bd2127b8c1",
   "metadata": {},
   "outputs": [],
   "source": [
    "# Read the directory with the tweets filtered by topic\n",
    "dataset_path = r'/home/hduser/dataset/twitter/topic'"
   ]
  },
  {
   "cell_type": "code",
   "execution_count": 4,
   "id": "c32a0dbf-a063-4bb7-89da-05542111bea1",
   "metadata": {},
   "outputs": [],
   "source": [
    "# Create the Spark Context\n",
    "\n",
    "spark = SparkSession \\\n",
    "    .builder \\\n",
    "    .appName(\"sba22243-sentiment\") \\\n",
    "    .config(\"spark.sql.debug.maxToStringFields\", 100) \\\n",
    "    .config(\"spark.mongodb.input.uri\", \"mongodb://192.168.0.107/sba22243.vaccine\") \\\n",
    "    .config(\"spark.mongodb.output.uri\", \"mongodb://192.168.0.107/sba22243.vaccine\") \\\n",
    "    .config('spark.jars.packages', 'org.mongodb.spark:mongo-spark-connector_2.12:3.0.2') \\\n",
    "    .getOrCreate()\n",
    "sqlContext = spark._wrapped"
   ]
  },
  {
   "cell_type": "markdown",
   "id": "f655af97",
   "metadata": {},
   "source": [
    "### Import filtered tweets from filesystem into MongoDB"
   ]
  },
  {
   "cell_type": "code",
   "execution_count": 5,
   "id": "c001b02f-4721-4fcf-93de-d8f673542a62",
   "metadata": {
    "scrolled": true
   },
   "outputs": [
    {
     "name": "stderr",
     "output_type": "stream",
     "text": [
      "                                                                                \r"
     ]
    }
   ],
   "source": [
    "# Read all files using Spark\n",
    "dataframe = sqlContext.read.json('file://' + dataset_path + '/vaccine-*.json')"
   ]
  },
  {
   "cell_type": "code",
   "execution_count": 6,
   "id": "fba6d3ba",
   "metadata": {
    "scrolled": true
   },
   "outputs": [
    {
     "name": "stdout",
     "output_type": "stream",
     "text": [
      "+--------------------+---------+--------------------+-------------+\n",
      "|          created_at|retweeted|                text| timestamp_ms|\n",
      "+--------------------+---------+--------------------+-------------+\n",
      "|Thu Mar 18 16:30:...|    false|WASHINGTON (@AP) ...|1616085014664|\n",
      "|Thu Mar 18 16:30:...|    false|You say this vacc...|1616085017658|\n",
      "|Thu Mar 18 16:30:...|    false|@FauciFan I’ll ta...|1616085032660|\n",
      "|Thu Mar 18 16:21:...|    false|That EU COVID-19 ...|1616084470665|\n",
      "|Thu Mar 18 16:21:...|    false|@MissCB26 @shungs...|1616084471660|\n",
      "|Thu Mar 18 16:21:...|    false|🚨People from 20 ...|1616084485662|\n",
      "|Thu Mar 18 16:21:...|    false|Napoleon was cont...|1616084490657|\n",
      "|Thu Mar 18 16:21:...|    false|Coronavirus live:...|1616084511663|\n",
      "|Thu Mar 18 16:02:...|    false|@cnni Until Bill ...|1616083333666|\n",
      "|Thu Mar 18 16:02:...|    false|Johnson Johnson v...|1616083338658|\n",
      "|Thu Mar 18 16:02:...|    false|Italy opens mansl...|1616083352659|\n",
      "|Thu Mar 18 16:02:...|    false|It is no coincide...|1616083367661|\n",
      "|Thu Mar 18 16:02:...|    false|🔴 #LIVE: The Eur...|1616083371661|\n",
      "|Mon Mar 29 18:03:...|    false|I’m of “advanced ...|1617040980657|\n",
      "|Mon Mar 29 18:03:...|    false|@CNNPolitics They...|1617040980662|\n",
      "|Mon Mar 29 18:03:...|    false|@Khaaksaar__k The...|1617040984665|\n",
      "|Mon Mar 29 18:03:...|    false|Pennsylvania suck...|1617040992659|\n",
      "|Mon Mar 29 18:03:...|    false|@MRSpinkston85 Th...|1617041014663|\n",
      "|Mon Mar 29 18:03:...|    false|Hey #Detroit - va...|1617041018662|\n",
      "|Mon Mar 29 18:03:...|    false|@realreporter @Da...|1617041030657|\n",
      "+--------------------+---------+--------------------+-------------+\n",
      "only showing top 20 rows\n",
      "\n"
     ]
    }
   ],
   "source": [
    "dataframe.show(20)"
   ]
  },
  {
   "cell_type": "code",
   "execution_count": 7,
   "id": "e94a025f",
   "metadata": {},
   "outputs": [
    {
     "name": "stdout",
     "output_type": "stream",
     "text": [
      "root\n",
      " |-- created_at: string (nullable = true)\n",
      " |-- retweeted: boolean (nullable = true)\n",
      " |-- text: string (nullable = true)\n",
      " |-- timestamp_ms: string (nullable = true)\n",
      "\n"
     ]
    }
   ],
   "source": [
    "dataframe.printSchema()"
   ]
  },
  {
   "cell_type": "code",
   "execution_count": 8,
   "id": "806a5d5d",
   "metadata": {
    "scrolled": true
   },
   "outputs": [
    {
     "name": "stderr",
     "output_type": "stream",
     "text": [
      "[Stage 3:======================================================>(195 + 2) / 197]\r"
     ]
    },
    {
     "name": "stdout",
     "output_type": "stream",
     "text": [
      "+-------+--------------------+--------------------+--------------------+\n",
      "|summary|          created_at|                text|        timestamp_ms|\n",
      "+-------+--------------------+--------------------+--------------------+\n",
      "|  count|              242125|              242125|              242125|\n",
      "|   mean|                null|                null|1.610587907342281...|\n",
      "| stddev|                null|                null|  7.24723910703953E9|\n",
      "|    min|Fri Apr 02 00:02:...|! India starts te...|       1590995006659|\n",
      "|    max|Wed Sep 30 23:59:...|🩺💉Covid-19: Wil...|       1622527004664|\n",
      "+-------+--------------------+--------------------+--------------------+\n",
      "\n"
     ]
    },
    {
     "name": "stderr",
     "output_type": "stream",
     "text": [
      "\r",
      "                                                                                \r"
     ]
    }
   ],
   "source": [
    "dataframe.describe().show()"
   ]
  },
  {
   "cell_type": "code",
   "execution_count": 9,
   "id": "d83a7987",
   "metadata": {},
   "outputs": [
    {
     "name": "stderr",
     "output_type": "stream",
     "text": [
      "[Stage 9:=================================================>       (63 + 4) / 72]\r"
     ]
    },
    {
     "name": "stdout",
     "output_type": "stream",
     "text": [
      "+----------+---------+----+------------+\n",
      "|created_at|retweeted|text|timestamp_ms|\n",
      "+----------+---------+----+------------+\n",
      "+----------+---------+----+------------+\n",
      "\n"
     ]
    },
    {
     "name": "stderr",
     "output_type": "stream",
     "text": [
      "\r",
      "[Stage 9:========================================================>(71 + 1) / 72]\r",
      "\r",
      "                                                                                \r"
     ]
    }
   ],
   "source": [
    "# filter out retweets\n",
    "# check if retweet == True\n",
    "tmp = dataframe.filter(dataframe.retweeted == True)\n",
    "tmp.show()"
   ]
  },
  {
   "cell_type": "code",
   "execution_count": 10,
   "id": "3c5cb7c1",
   "metadata": {},
   "outputs": [],
   "source": [
    "# Sort ascending\n",
    "dataframe = dataframe.orderBy(\"timestamp_ms\")"
   ]
  },
  {
   "cell_type": "code",
   "execution_count": 11,
   "id": "1c944248",
   "metadata": {},
   "outputs": [],
   "source": [
    "# Remove tweets that begin with \"RT \" as they are retweets as well\n",
    "dataframe = dataframe.filter(~dataframe.text.startswith('RT '))"
   ]
  },
  {
   "cell_type": "code",
   "execution_count": 12,
   "id": "03be428b",
   "metadata": {},
   "outputs": [
    {
     "name": "stderr",
     "output_type": "stream",
     "text": [
      "                                                                                \r"
     ]
    },
    {
     "data": {
      "text/plain": [
       "194127"
      ]
     },
     "execution_count": 12,
     "metadata": {},
     "output_type": "execute_result"
    }
   ],
   "source": [
    "dataframe.count()"
   ]
  },
  {
   "cell_type": "code",
   "execution_count": 13,
   "id": "cf2591d0",
   "metadata": {},
   "outputs": [],
   "source": [
    "# Remove web address from the tweets\n",
    "dataframe = dataframe.withColumn(\"text\", F.regexp_replace(\"text\", \"https?://\\\\\\\\S+\", \"\"))"
   ]
  },
  {
   "cell_type": "code",
   "execution_count": 14,
   "id": "24cd47d2",
   "metadata": {},
   "outputs": [],
   "source": [
    "# Remove the emoji and not ASCII characters from the text\n",
    "dataframe = dataframe.withColumn(\"text\", F.regexp_replace(\"text\", \"[^\\\\x00-\\\\x7F]+\", \"\"))"
   ]
  },
  {
   "cell_type": "code",
   "execution_count": 15,
   "id": "8c38916f",
   "metadata": {},
   "outputs": [
    {
     "name": "stderr",
     "output_type": "stream",
     "text": [
      "[Stage 12:===================================================>  (189 + 4) / 197]\r"
     ]
    },
    {
     "name": "stdout",
     "output_type": "stream",
     "text": [
      "+--------------------+---------+--------------------+-------------+\n",
      "|          created_at|retweeted|                text| timestamp_ms|\n",
      "+--------------------+---------+--------------------+-------------+\n",
      "|Mon Jun 01 07:03:...|    false|@MikeSwadling @Ja...|1590995006659|\n",
      "|Mon Jun 01 07:42:...|    false|Oxford Biomedica ...|1590997328663|\n",
      "|Mon Jun 01 07:58:...|    false|The race for a va...|1590998284666|\n",
      "|Mon Jun 01 08:16:...|    false|@kaajalActress Is...|1590999372665|\n",
      "|Mon Jun 01 08:40:...|    false|@BorisJohnson The...|1591000848665|\n",
      "|Mon Jun 01 08:45:...|    false|@xandvt Unfortuna...|1591001151663|\n",
      "|Mon Jun 01 08:49:...|    false|Doesnt this also ...|1591001383662|\n",
      "|Mon Jun 01 09:55:...|    false|@WhiteHouse @POTU...|1591005305662|\n",
      "|Mon Jun 01 09:59:...|    false|#CoronaIsNotAJoke...|1591005559660|\n",
      "|Mon Jun 01 10:04:...|    false|@drmansoor140 Yes...|1591005888663|\n",
      "|Mon Jun 01 10:17:...|    false|she's ANTI-VACCIN...|1591006634661|\n",
      "|Mon Jun 01 10:20:...|    false|How? Why? Is ther...|1591006805664|\n",
      "|Mon Jun 01 10:22:...|    false|r/Health  Only ha...|1591006926663|\n",
      "|Mon Jun 01 10:28:...|    false|She anti vaccine ...|1591007288664|\n",
      "|Mon Jun 01 11:28:...|    false|@theJeremyVine @r...|1591010920665|\n",
      "|Mon Jun 01 11:51:...|    false|@Jeff54823633 @Ka...|1591012317665|\n",
      "|Mon Jun 01 12:13:...|    false|@brokentaleof It ...|1591013607663|\n",
      "|Mon Jun 01 12:20:...|    false|Anthony Fauci in ...|1591014059657|\n",
      "|Mon Jun 01 12:34:...|    false|Chinese company S...|1591014897666|\n",
      "|Mon Jun 01 12:40:...|    false|Wheres the vaccin...|1591015223663|\n",
      "+--------------------+---------+--------------------+-------------+\n",
      "only showing top 20 rows\n",
      "\n"
     ]
    },
    {
     "name": "stderr",
     "output_type": "stream",
     "text": [
      "\r",
      "                                                                                \r"
     ]
    }
   ],
   "source": [
    "dataframe.show(20)"
   ]
  },
  {
   "cell_type": "code",
   "execution_count": 16,
   "id": "80a4b3bf",
   "metadata": {},
   "outputs": [],
   "source": [
    "# Remove the retweeted column\n",
    "dataframe = dataframe.drop(\"retweeted\")"
   ]
  },
  {
   "cell_type": "code",
   "execution_count": 17,
   "id": "001315e7",
   "metadata": {},
   "outputs": [
    {
     "name": "stderr",
     "output_type": "stream",
     "text": [
      "[Stage 13:==================================================>   (184 + 4) / 197]\r"
     ]
    },
    {
     "name": "stdout",
     "output_type": "stream",
     "text": [
      "+--------------------+--------------------+-------------+\n",
      "|          created_at|                text| timestamp_ms|\n",
      "+--------------------+--------------------+-------------+\n",
      "|Mon Jun 01 07:03:...|@MikeSwadling @Ja...|1590995006659|\n",
      "|Mon Jun 01 07:42:...|Oxford Biomedica ...|1590997328663|\n",
      "|Mon Jun 01 07:58:...|The race for a va...|1590998284666|\n",
      "|Mon Jun 01 08:16:...|@kaajalActress Is...|1590999372665|\n",
      "|Mon Jun 01 08:40:...|@BorisJohnson The...|1591000848665|\n",
      "+--------------------+--------------------+-------------+\n",
      "only showing top 5 rows\n",
      "\n"
     ]
    },
    {
     "name": "stderr",
     "output_type": "stream",
     "text": [
      "\r",
      "[Stage 13:====================================================> (192 + 4) / 197]\r",
      "\r",
      "                                                                                \r"
     ]
    }
   ],
   "source": [
    "dataframe.show(5)"
   ]
  },
  {
   "cell_type": "code",
   "execution_count": 18,
   "id": "dbba2abe",
   "metadata": {},
   "outputs": [],
   "source": [
    "# extract the day, the month and the year from the timestamp\n",
    "\n",
    "dataframe = dataframe.withColumn(\"unix_timestamp\", F.to_timestamp(F.col(\"timestamp_ms\")/1000))\n",
    "dataframe = dataframe.withColumn(\"day\", F.date_format(F.col(\"unix_timestamp\"), \"d\"))\n",
    "dataframe = dataframe.withColumn(\"month\", F.date_format(F.col(\"unix_timestamp\"), \"M\"))\n",
    "dataframe = dataframe.withColumn(\"year\", F.date_format(F.col(\"unix_timestamp\"), \"y\"))\n",
    "dataframe = dataframe.withColumn(\"full_date\", F.date_format(F.col(\"unix_timestamp\"), \"yyyy-MM-dd\"))\n",
    "dataframe = dataframe.drop(\"unix_timestamp\")"
   ]
  },
  {
   "cell_type": "code",
   "execution_count": 19,
   "id": "cb077844",
   "metadata": {},
   "outputs": [
    {
     "name": "stderr",
     "output_type": "stream",
     "text": [
      "[Stage 14:================================================>     (176 + 4) / 197]\r"
     ]
    },
    {
     "name": "stdout",
     "output_type": "stream",
     "text": [
      "+--------------------+--------------------+-------------+---+-----+----+----------+\n",
      "|          created_at|                text| timestamp_ms|day|month|year| full_date|\n",
      "+--------------------+--------------------+-------------+---+-----+----+----------+\n",
      "|Mon Jun 01 07:03:...|@MikeSwadling @Ja...|1590995006659|  1|    6|2020|2020-06-01|\n",
      "|Mon Jun 01 07:42:...|Oxford Biomedica ...|1590997328663|  1|    6|2020|2020-06-01|\n",
      "|Mon Jun 01 07:58:...|The race for a va...|1590998284666|  1|    6|2020|2020-06-01|\n",
      "|Mon Jun 01 08:16:...|@kaajalActress Is...|1590999372665|  1|    6|2020|2020-06-01|\n",
      "|Mon Jun 01 08:40:...|@BorisJohnson The...|1591000848665|  1|    6|2020|2020-06-01|\n",
      "|Mon Jun 01 08:45:...|@xandvt Unfortuna...|1591001151663|  1|    6|2020|2020-06-01|\n",
      "|Mon Jun 01 08:49:...|Doesnt this also ...|1591001383662|  1|    6|2020|2020-06-01|\n",
      "|Mon Jun 01 09:55:...|@WhiteHouse @POTU...|1591005305662|  1|    6|2020|2020-06-01|\n",
      "|Mon Jun 01 09:59:...|#CoronaIsNotAJoke...|1591005559660|  1|    6|2020|2020-06-01|\n",
      "|Mon Jun 01 10:04:...|@drmansoor140 Yes...|1591005888663|  1|    6|2020|2020-06-01|\n",
      "|Mon Jun 01 10:17:...|she's ANTI-VACCIN...|1591006634661|  1|    6|2020|2020-06-01|\n",
      "|Mon Jun 01 10:20:...|How? Why? Is ther...|1591006805664|  1|    6|2020|2020-06-01|\n",
      "|Mon Jun 01 10:22:...|r/Health  Only ha...|1591006926663|  1|    6|2020|2020-06-01|\n",
      "|Mon Jun 01 10:28:...|She anti vaccine ...|1591007288664|  1|    6|2020|2020-06-01|\n",
      "|Mon Jun 01 11:28:...|@theJeremyVine @r...|1591010920665|  1|    6|2020|2020-06-01|\n",
      "|Mon Jun 01 11:51:...|@Jeff54823633 @Ka...|1591012317665|  1|    6|2020|2020-06-01|\n",
      "|Mon Jun 01 12:13:...|@brokentaleof It ...|1591013607663|  1|    6|2020|2020-06-01|\n",
      "|Mon Jun 01 12:20:...|Anthony Fauci in ...|1591014059657|  1|    6|2020|2020-06-01|\n",
      "|Mon Jun 01 12:34:...|Chinese company S...|1591014897666|  1|    6|2020|2020-06-01|\n",
      "|Mon Jun 01 12:40:...|Wheres the vaccin...|1591015223663|  1|    6|2020|2020-06-01|\n",
      "+--------------------+--------------------+-------------+---+-----+----+----------+\n",
      "only showing top 20 rows\n",
      "\n"
     ]
    },
    {
     "name": "stderr",
     "output_type": "stream",
     "text": [
      "\r",
      "[Stage 14:==================================================>   (186 + 4) / 197]\r",
      "\r",
      "                                                                                \r"
     ]
    }
   ],
   "source": [
    "dataframe.show()"
   ]
  },
  {
   "cell_type": "code",
   "execution_count": 20,
   "id": "5e936add",
   "metadata": {},
   "outputs": [
    {
     "name": "stderr",
     "output_type": "stream",
     "text": [
      "[Stage 18:====================================================> (194 + 4) / 200]\r"
     ]
    },
    {
     "name": "stdout",
     "output_type": "stream",
     "text": [
      "+-------+--------------------+--------------------+--------------------+------------------+------------------+------------------+----------+\n",
      "|summary|          created_at|                text|        timestamp_ms|               day|             month|              year| full_date|\n",
      "+-------+--------------------+--------------------+--------------------+------------------+------------------+------------------+----------+\n",
      "|  count|              194127|              194127|              194127|            194127|            194127|            194127|    194127|\n",
      "|   mean|                null|                null|1.610492008004498...|14.865593142633431|  6.64315628428812|2020.5257383053363|      null|\n",
      "| stddev|                null|                null| 8.071449773431386E9| 9.093458618552686|3.7720981514155443|0.4993383863162408|      null|\n",
      "|    min|Fri Apr 02 00:02:...|\n",
      "\n",
      " Russia present...|       1590995006659|                 1|                 1|              2020|2020-06-01|\n",
      "|    max|Wed Sep 30 23:59:...|~*~ Pfizer corona...|       1622527004664|                 9|                 9|              2021|2021-06-01|\n",
      "+-------+--------------------+--------------------+--------------------+------------------+------------------+------------------+----------+\n",
      "\n"
     ]
    },
    {
     "name": "stderr",
     "output_type": "stream",
     "text": [
      "\r",
      "                                                                                \r"
     ]
    }
   ],
   "source": [
    "dataframe.describe().show()"
   ]
  },
  {
   "cell_type": "code",
   "execution_count": 21,
   "id": "3943d125",
   "metadata": {},
   "outputs": [
    {
     "name": "stderr",
     "output_type": "stream",
     "text": [
      "                                                                                \r"
     ]
    }
   ],
   "source": [
    "# count how manny tweets per day are in the dataset\n",
    "dataset = dataframe.groupBy(\"full_date\").count().toPandas()"
   ]
  },
  {
   "cell_type": "code",
   "execution_count": 22,
   "id": "2fd954d3",
   "metadata": {},
   "outputs": [],
   "source": [
    "dataset = dataset.sort_values(\"full_date\")"
   ]
  },
  {
   "cell_type": "code",
   "execution_count": 23,
   "id": "15e38d54",
   "metadata": {},
   "outputs": [
    {
     "data": {
      "text/html": [
       "<div>\n",
       "<style scoped>\n",
       "    .dataframe tbody tr th:only-of-type {\n",
       "        vertical-align: middle;\n",
       "    }\n",
       "\n",
       "    .dataframe tbody tr th {\n",
       "        vertical-align: top;\n",
       "    }\n",
       "\n",
       "    .dataframe thead th {\n",
       "        text-align: right;\n",
       "    }\n",
       "</style>\n",
       "<table border=\"1\" class=\"dataframe\">\n",
       "  <thead>\n",
       "    <tr style=\"text-align: right;\">\n",
       "      <th></th>\n",
       "      <th>full_date</th>\n",
       "      <th>count</th>\n",
       "    </tr>\n",
       "  </thead>\n",
       "  <tbody>\n",
       "    <tr>\n",
       "      <th>81</th>\n",
       "      <td>2020-06-01</td>\n",
       "      <td>73</td>\n",
       "    </tr>\n",
       "    <tr>\n",
       "      <th>251</th>\n",
       "      <td>2020-06-02</td>\n",
       "      <td>104</td>\n",
       "    </tr>\n",
       "    <tr>\n",
       "      <th>201</th>\n",
       "      <td>2020-06-03</td>\n",
       "      <td>39</td>\n",
       "    </tr>\n",
       "    <tr>\n",
       "      <th>260</th>\n",
       "      <td>2020-06-04</td>\n",
       "      <td>131</td>\n",
       "    </tr>\n",
       "    <tr>\n",
       "      <th>250</th>\n",
       "      <td>2020-06-05</td>\n",
       "      <td>160</td>\n",
       "    </tr>\n",
       "  </tbody>\n",
       "</table>\n",
       "</div>"
      ],
      "text/plain": [
       "      full_date  count\n",
       "81   2020-06-01     73\n",
       "251  2020-06-02    104\n",
       "201  2020-06-03     39\n",
       "260  2020-06-04    131\n",
       "250  2020-06-05    160"
      ]
     },
     "execution_count": 23,
     "metadata": {},
     "output_type": "execute_result"
    }
   ],
   "source": [
    "dataset.head()"
   ]
  },
  {
   "cell_type": "code",
   "execution_count": 24,
   "id": "a7d34aaf",
   "metadata": {},
   "outputs": [
    {
     "data": {
      "image/png": "[encoded data removed]",
      "text/plain": [
       "<Figure size 1152x360 with 1 Axes>"
      ]
     },
     "metadata": {
      "needs_background": "light"
     },
     "output_type": "display_data"
    }
   ],
   "source": [
    "# plot the tweet distribution\n",
    "\n",
    "plt.figure(figsize=(16,5))\n",
    "locator = MaxNLocator(nbins=14)\n",
    "plt.plot(dataset['full_date'], dataset['count'], color='tab:red', linewidth = '1')\n",
    "plt.gca().set(title=\"Distribution of tweets per day\", xlabel=\"Date\", ylabel=\"Number of tweets per day\")\n",
    "plt.gca().xaxis.set_major_locator(locator)\n",
    "plt.grid(axis = 'y', linestyle = '--', linewidth = 1)\n",
    "plt.xticks(rotation=45, ha=\"right\")\n",
    "plt.show()"
   ]
  },
  {
   "cell_type": "code",
   "execution_count": null,
   "id": "d7e5035f",
   "metadata": {},
   "outputs": [],
   "source": []
  },
  {
   "cell_type": "code",
   "execution_count": 25,
   "id": "23155309",
   "metadata": {},
   "outputs": [
    {
     "name": "stderr",
     "output_type": "stream",
     "text": [
      "                                                                                \r"
     ]
    }
   ],
   "source": [
    "# Save dataset into MongoDB\n",
    "dataframe.write.format(\"com.mongodb.spark.sql.DefaultSource\").mode(\"append\").option(\"spark.mongodb.output.uri\",\"mongodb://192.168.0.107/sba22243.vaccine\").save()"
   ]
  },
  {
   "cell_type": "code",
   "execution_count": 27,
   "id": "c6f345d1",
   "metadata": {},
   "outputs": [
    {
     "name": "stderr",
     "output_type": "stream",
     "text": [
      "                                                                                \r"
     ]
    }
   ],
   "source": [
    "# Save the dataframe to a csv file for future uses\n",
    "dataframe.coalesce(1).write.csv('file:///home/hduser/dataset/twitter/final/twitter-vaccine-final.csv', header=True)"
   ]
  },
  {
   "cell_type": "code",
   "execution_count": null,
   "id": "9b28efd1",
   "metadata": {},
   "outputs": [],
   "source": []
  },
  {
   "cell_type": "code",
   "execution_count": null,
   "id": "d378eff1",
   "metadata": {},
   "outputs": [],
   "source": []
  }
 ],
 "metadata": {
  "kernelspec": {
   "display_name": "Python 3 (ipykernel)",
   "language": "python",
   "name": "python3"
  },
  "language_info": {
   "codemirror_mode": {
    "name": "ipython",
    "version": 3
   },
   "file_extension": ".py",
   "mimetype": "text/x-python",
   "name": "python",
   "nbconvert_exporter": "python",
   "pygments_lexer": "ipython3",
   "version": "3.10.6"
  }
 },
 "nbformat": 4,
 "nbformat_minor": 5
}
